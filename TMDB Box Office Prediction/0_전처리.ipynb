{
 "cells": [
  {
   "cell_type": "markdown",
   "metadata": {},
   "source": [
    "- train.csv, test.csv에서 feature 전처리\n",
    "- 몇 개의 column의 값은 dictionary 자료구조가 string의 형태로 들어가 있음.\n",
    "- 해당 되는 column에 대해 학습을 사용할 수 있도록 전처리\n",
    "    - column에 값이 채워져 있는가 / 없는가 -> 1 / 0\n",
    "    - 값들을 count해 빈번하게 나온 상위 k개의 값들을 각각 포함하는가 / 포함하지 않는가 -> 1 / 0\n",
    "    - crew, actor 중 남성 / 여성이 몇 명인가?\n",
    "    - crew 중 빈번하게 등장한 job을 가진 사람이 몇 명인가 , department에 속한 사람이 몇 명인가\n",
    "- input : train.csv, test.csv\n",
    "- output : df_train_preprocessed.csv, df_test_preprocessed.csv"
   ]
  },
  {
   "cell_type": "code",
   "execution_count": 1,
   "metadata": {},
   "outputs": [],
   "source": [
    "import pandas as pd\n",
    "import ast\n",
    "import matplotlib.pyplot as plt\n",
    "\n",
    "from urllib.request import urlopen\n",
    "from PIL import Image\n",
    "\n",
    "import seaborn as sns\n",
    "\n",
    "\n",
    "from collections import Counter"
   ]
  },
  {
   "cell_type": "code",
   "execution_count": 2,
   "metadata": {},
   "outputs": [],
   "source": [
    "str_dict_cols = ['belongs_to_collection', 'genres', 'production_companies',\n",
    "                'production_countries', 'spoken_languages', 'Keywords', 'cast', 'crew']"
   ]
  },
  {
   "cell_type": "code",
   "execution_count": 3,
   "metadata": {},
   "outputs": [],
   "source": [
    "df_train= pd.read_csv('train.csv')\n",
    "df_test = pd.read_csv('test.csv')"
   ]
  },
  {
   "cell_type": "code",
   "execution_count": 4,
   "metadata": {},
   "outputs": [],
   "source": [
    "def txt_to_dict(df, str_dict_cols):\n",
    "    for column in str_dict_cols:\n",
    "        df[column] = df[column].apply(lambda x : {} if pd.isna(x) else ast.literal_eval(x))\n",
    "    return df"
   ]
  },
  {
   "cell_type": "code",
   "execution_count": 5,
   "metadata": {},
   "outputs": [
    {
     "name": "stdout",
     "output_type": "stream",
     "text": [
      "CPU times: user 10.8 s, sys: 188 ms, total: 11 s\n",
      "Wall time: 11 s\n"
     ]
    }
   ],
   "source": [
    "%%time\n",
    "df_train = txt_to_dict(df_train, str_dict_cols)\n",
    "df_test = txt_to_dict(df_test, str_dict_cols)"
   ]
  },
  {
   "cell_type": "code",
   "execution_count": 6,
   "metadata": {},
   "outputs": [
    {
     "data": {
      "text/plain": [
       "((3000, 23), (4398, 22))"
      ]
     },
     "execution_count": 6,
     "metadata": {},
     "output_type": "execute_result"
    }
   ],
   "source": [
    "df_train.shape, df_test.shape"
   ]
  },
  {
   "cell_type": "code",
   "execution_count": 7,
   "metadata": {},
   "outputs": [
    {
     "data": {
      "text/plain": [
       "Index(['id', 'belongs_to_collection', 'budget', 'genres', 'homepage',\n",
       "       'imdb_id', 'original_language', 'original_title', 'overview',\n",
       "       'popularity', 'poster_path', 'production_companies',\n",
       "       'production_countries', 'release_date', 'runtime', 'spoken_languages',\n",
       "       'status', 'tagline', 'title', 'Keywords', 'cast', 'crew', 'revenue'],\n",
       "      dtype='object')"
      ]
     },
     "execution_count": 7,
     "metadata": {},
     "output_type": "execute_result"
    }
   ],
   "source": [
    "df_train.columns"
   ]
  },
  {
   "cell_type": "markdown",
   "metadata": {},
   "source": [
    "### belongs_to_collection"
   ]
  },
  {
   "cell_type": "code",
   "execution_count": 8,
   "metadata": {},
   "outputs": [
    {
     "data": {
      "text/plain": [
       "[{'id': 313576,\n",
       "  'name': 'Hot Tub Time Machine Collection',\n",
       "  'poster_path': '/iEhb00TGPucF0b4joM1ieyY026U.jpg',\n",
       "  'backdrop_path': '/noeTVcgpBiD48fDjFVic1Vz7ope.jpg'}]"
      ]
     },
     "execution_count": 8,
     "metadata": {},
     "output_type": "execute_result"
    }
   ],
   "source": [
    "df_train['belongs_to_collection'][0]"
   ]
  },
  {
   "cell_type": "code",
   "execution_count": 9,
   "metadata": {},
   "outputs": [
    {
     "data": {
      "text/plain": [
       "0    2396\n",
       "1     604\n",
       "Name: belongs_to_collection, dtype: int64"
      ]
     },
     "execution_count": 9,
     "metadata": {},
     "output_type": "execute_result"
    }
   ],
   "source": [
    "df_train['belongs_to_collection'].apply(lambda x : len(x) if x != {} else 0).value_counts()"
   ]
  },
  {
   "cell_type": "markdown",
   "metadata": {},
   "source": [
    "- belongs_to_collection에서 'name' 가져옴.\n",
    "- 해당 column에 정보가 있으면 1, 없으면 0"
   ]
  },
  {
   "cell_type": "code",
   "execution_count": 10,
   "metadata": {},
   "outputs": [],
   "source": [
    "df_train['collection_name'] = df_train['belongs_to_collection'].apply(lambda x: x[0]['name'] if x != {} else 0)\n",
    "df_train['has_collection'] = df_train['belongs_to_collection'].apply(lambda x: len(x) if x != {} else 0)\n",
    "\n",
    "df_test['collection_name'] = df_test['belongs_to_collection'].apply(lambda x: x[0]['name'] if x != {} else 0)\n",
    "df_test['has_collection'] = df_test['belongs_to_collection'].apply(lambda x: len(x) if x != {} else 0)\n",
    "\n",
    "df_train.drop(['belongs_to_collection'], axis=1, inplace=True)\n",
    "df_test.drop(['belongs_to_collection'], axis=1, inplace=True)"
   ]
  },
  {
   "cell_type": "markdown",
   "metadata": {},
   "source": [
    "------------"
   ]
  },
  {
   "cell_type": "markdown",
   "metadata": {},
   "source": [
    "### genres"
   ]
  },
  {
   "cell_type": "code",
   "execution_count": 11,
   "metadata": {},
   "outputs": [
    {
     "data": {
      "text/plain": [
       "0                       [{'id': 35, 'name': 'Comedy'}]\n",
       "1    [{'id': 35, 'name': 'Comedy'}, {'id': 18, 'nam...\n",
       "2                        [{'id': 18, 'name': 'Drama'}]\n",
       "3    [{'id': 53, 'name': 'Thriller'}, {'id': 18, 'n...\n",
       "4    [{'id': 28, 'name': 'Action'}, {'id': 53, 'nam...\n",
       "Name: genres, dtype: object"
      ]
     },
     "metadata": {},
     "output_type": "display_data"
    },
    {
     "data": {
      "text/plain": [
       "[{'id': 35, 'name': 'Comedy'},\n",
       " {'id': 18, 'name': 'Drama'},\n",
       " {'id': 10751, 'name': 'Family'},\n",
       " {'id': 10749, 'name': 'Romance'}]"
      ]
     },
     "execution_count": 11,
     "metadata": {},
     "output_type": "execute_result"
    }
   ],
   "source": [
    "display(df_train['genres'].head())\n",
    "df_train['genres'].iloc[1]"
   ]
  },
  {
   "cell_type": "markdown",
   "metadata": {},
   "source": [
    "- 하나의 영화 -> 여러 장르가 포함되어 있음"
   ]
  },
  {
   "cell_type": "code",
   "execution_count": 12,
   "metadata": {},
   "outputs": [
    {
     "data": {
      "text/plain": [
       "2    972\n",
       "3    900\n",
       "1    593\n",
       "4    393\n",
       "5    111\n",
       "6     21\n",
       "0      7\n",
       "7      3\n",
       "Name: genres, dtype: int64"
      ]
     },
     "execution_count": 12,
     "metadata": {},
     "output_type": "execute_result"
    }
   ],
   "source": [
    "df_train['genres'].apply(lambda x:len(x) if x != {} else 0).value_counts()"
   ]
  },
  {
   "cell_type": "code",
   "execution_count": 13,
   "metadata": {},
   "outputs": [],
   "source": [
    "genre_list = list(df_train['genres'].apply(lambda x: [i['name'] for i in x] if x != {} else []).values)"
   ]
  },
  {
   "cell_type": "code",
   "execution_count": 21,
   "metadata": {},
   "outputs": [
    {
     "data": {
      "text/plain": [
       "[['Comedy'],\n",
       " ['Comedy', 'Drama', 'Family', 'Romance'],\n",
       " ['Drama'],\n",
       " ['Thriller', 'Drama'],\n",
       " ['Action', 'Thriller'],\n",
       " ['Animation', 'Adventure', 'Family'],\n",
       " ['Horror', 'Thriller'],\n",
       " ['Documentary'],\n",
       " ['Action', 'Comedy', 'Music', 'Family', 'Adventure'],\n",
       " ['Comedy', 'Music']]"
      ]
     },
     "execution_count": 21,
     "metadata": {},
     "output_type": "execute_result"
    }
   ],
   "source": [
    "genre_list[0:10]"
   ]
  },
  {
   "cell_type": "code",
   "execution_count": 26,
   "metadata": {},
   "outputs": [],
   "source": [
    "\n",
    "top_15_genres = [i for i in Counter([j for i in genre_list for j in i])][:15]"
   ]
  },
  {
   "cell_type": "code",
   "execution_count": 27,
   "metadata": {},
   "outputs": [],
   "source": [
    "df_train['num_genres'] = df_train['genres'].apply(lambda x:len(x) if x != {} else 0)\n",
    "df_train['all_genres'] = df_train['genres'].apply(lambda x: ' '.join(sorted([i['name'] for i in x])) if x != {} else '')\n",
    "for g in top_15_genres:\n",
    "    df_train['genre_' + g] = df_train['all_genres'].apply(lambda x : 1 if g in x else 0)\n",
    "\n",
    "df_test['num_genres'] = df_test['genres'].apply(lambda x:len(x) if x != {} else 0)\n",
    "df_test['all_genres'] = df_test['genres'].apply(lambda x: ' '.join(sorted([i['name'] for i in x])) if x != {} else '')\n",
    "for g in top_15_genres:\n",
    "    df_test['genre_' + g] = df_test['all_genres'].apply(lambda x : 1 if g in x else 0)  \n",
    "    \n",
    "df_train.drop(['genres'], axis=1, inplace=True)\n",
    "df_test.drop(['genres'], axis=1, inplace=True)"
   ]
  },
  {
   "cell_type": "markdown",
   "metadata": {},
   "source": [
    "### production_companies"
   ]
  },
  {
   "cell_type": "code",
   "execution_count": 28,
   "metadata": {},
   "outputs": [
    {
     "data": {
      "text/plain": [
       "[{'name': 'Paramount Pictures', 'id': 4},\n",
       " {'name': 'United Artists', 'id': 60},\n",
       " {'name': 'Metro-Goldwyn-Mayer (MGM)', 'id': 8411}]"
      ]
     },
     "execution_count": 28,
     "metadata": {},
     "output_type": "execute_result"
    }
   ],
   "source": [
    "df_train['production_companies'][0]"
   ]
  },
  {
   "cell_type": "code",
   "execution_count": 29,
   "metadata": {},
   "outputs": [
    {
     "data": {
      "text/plain": [
       "1     775\n",
       "2     734\n",
       "3     582\n",
       "4     312\n",
       "5     166\n",
       "0     156\n",
       "6     118\n",
       "7      62\n",
       "8      42\n",
       "9      29\n",
       "11      7\n",
       "10      7\n",
       "12      3\n",
       "16      2\n",
       "15      2\n",
       "14      1\n",
       "13      1\n",
       "17      1\n",
       "Name: production_companies, dtype: int64"
      ]
     },
     "execution_count": 29,
     "metadata": {},
     "output_type": "execute_result"
    }
   ],
   "source": [
    "df_train['production_companies'].apply(lambda x:len(x) if x != {} else 0).value_counts()"
   ]
  },
  {
   "cell_type": "code",
   "execution_count": 30,
   "metadata": {},
   "outputs": [
    {
     "data": {
      "text/html": [
       "<div>\n",
       "<style scoped>\n",
       "    .dataframe tbody tr th:only-of-type {\n",
       "        vertical-align: middle;\n",
       "    }\n",
       "\n",
       "    .dataframe tbody tr th {\n",
       "        vertical-align: top;\n",
       "    }\n",
       "\n",
       "    .dataframe thead th {\n",
       "        text-align: right;\n",
       "    }\n",
       "</style>\n",
       "<table border=\"1\" class=\"dataframe\">\n",
       "  <thead>\n",
       "    <tr style=\"text-align: right;\">\n",
       "      <th></th>\n",
       "      <th>id</th>\n",
       "      <th>budget</th>\n",
       "      <th>homepage</th>\n",
       "      <th>imdb_id</th>\n",
       "      <th>original_language</th>\n",
       "      <th>original_title</th>\n",
       "      <th>overview</th>\n",
       "      <th>popularity</th>\n",
       "      <th>poster_path</th>\n",
       "      <th>production_companies</th>\n",
       "      <th>...</th>\n",
       "      <th>genre_Action</th>\n",
       "      <th>genre_Animation</th>\n",
       "      <th>genre_Adventure</th>\n",
       "      <th>genre_Horror</th>\n",
       "      <th>genre_Documentary</th>\n",
       "      <th>genre_Music</th>\n",
       "      <th>genre_Crime</th>\n",
       "      <th>genre_Science Fiction</th>\n",
       "      <th>genre_Mystery</th>\n",
       "      <th>genre_Foreign</th>\n",
       "    </tr>\n",
       "  </thead>\n",
       "  <tbody>\n",
       "    <tr>\n",
       "      <th>31</th>\n",
       "      <td>32</td>\n",
       "      <td>0</td>\n",
       "      <td>http://www.cache-derfilm.at</td>\n",
       "      <td>tt0387898</td>\n",
       "      <td>fr</td>\n",
       "      <td>Caché</td>\n",
       "      <td>A married couple is terrorized by a series of ...</td>\n",
       "      <td>5.695860</td>\n",
       "      <td>/i1Zl8S4DgM3IDLW5dhZzBnIdCOe.jpg</td>\n",
       "      <td>[{'name': 'Les Films du Losange', 'id': 223}, ...</td>\n",
       "      <td>...</td>\n",
       "      <td>0</td>\n",
       "      <td>0</td>\n",
       "      <td>0</td>\n",
       "      <td>0</td>\n",
       "      <td>0</td>\n",
       "      <td>0</td>\n",
       "      <td>0</td>\n",
       "      <td>0</td>\n",
       "      <td>1</td>\n",
       "      <td>0</td>\n",
       "    </tr>\n",
       "    <tr>\n",
       "      <th>116</th>\n",
       "      <td>117</td>\n",
       "      <td>0</td>\n",
       "      <td>NaN</td>\n",
       "      <td>tt2113822</td>\n",
       "      <td>zh</td>\n",
       "      <td>一九四二</td>\n",
       "      <td>In 1942, Henan Province was devastated by the ...</td>\n",
       "      <td>1.678013</td>\n",
       "      <td>/xxz2gi8vijqqJySGO3kQy2i8mv.jpg</td>\n",
       "      <td>[{'name': 'Emperor Motion Pictures', 'id': 272...</td>\n",
       "      <td>...</td>\n",
       "      <td>0</td>\n",
       "      <td>0</td>\n",
       "      <td>0</td>\n",
       "      <td>0</td>\n",
       "      <td>0</td>\n",
       "      <td>0</td>\n",
       "      <td>0</td>\n",
       "      <td>0</td>\n",
       "      <td>0</td>\n",
       "      <td>0</td>\n",
       "    </tr>\n",
       "    <tr>\n",
       "      <th>363</th>\n",
       "      <td>364</td>\n",
       "      <td>15400000</td>\n",
       "      <td>NaN</td>\n",
       "      <td>tt2053425</td>\n",
       "      <td>fr</td>\n",
       "      <td>De rouille et d'os</td>\n",
       "      <td>Put in charge of his young son, Ali leaves Bel...</td>\n",
       "      <td>8.400049</td>\n",
       "      <td>/cHCwW8xPl8yPKQwpNzKVinwvirT.jpg</td>\n",
       "      <td>[{'name': 'France 2 Cinéma', 'id': 83}, {'name...</td>\n",
       "      <td>...</td>\n",
       "      <td>0</td>\n",
       "      <td>0</td>\n",
       "      <td>0</td>\n",
       "      <td>0</td>\n",
       "      <td>0</td>\n",
       "      <td>0</td>\n",
       "      <td>0</td>\n",
       "      <td>0</td>\n",
       "      <td>0</td>\n",
       "      <td>0</td>\n",
       "    </tr>\n",
       "    <tr>\n",
       "      <th>392</th>\n",
       "      <td>393</td>\n",
       "      <td>0</td>\n",
       "      <td>NaN</td>\n",
       "      <td>tt5072406</td>\n",
       "      <td>fr</td>\n",
       "      <td>Moka</td>\n",
       "      <td>Diane Kramer is led by one obsession: to find ...</td>\n",
       "      <td>2.404466</td>\n",
       "      <td>/5VKVaTJJsyDeOzY6fLcyTo1RA9g.jpg</td>\n",
       "      <td>[{'name': 'Canal+', 'id': 5358}, {'name': 'Cin...</td>\n",
       "      <td>...</td>\n",
       "      <td>0</td>\n",
       "      <td>0</td>\n",
       "      <td>0</td>\n",
       "      <td>0</td>\n",
       "      <td>0</td>\n",
       "      <td>0</td>\n",
       "      <td>0</td>\n",
       "      <td>0</td>\n",
       "      <td>0</td>\n",
       "      <td>0</td>\n",
       "    </tr>\n",
       "    <tr>\n",
       "      <th>449</th>\n",
       "      <td>450</td>\n",
       "      <td>80000000</td>\n",
       "      <td>http://asoundofthunder.warnerbros.com/</td>\n",
       "      <td>tt0318081</td>\n",
       "      <td>en</td>\n",
       "      <td>A Sound of Thunder</td>\n",
       "      <td>When a hunter sent back to the prehistoric era...</td>\n",
       "      <td>4.980191</td>\n",
       "      <td>/gsqOX1ReJ5lcmTuDdkhOXLug8Ug.jpg</td>\n",
       "      <td>[{'name': 'Epsilon Motion Pictures', 'id': 117...</td>\n",
       "      <td>...</td>\n",
       "      <td>1</td>\n",
       "      <td>0</td>\n",
       "      <td>1</td>\n",
       "      <td>0</td>\n",
       "      <td>0</td>\n",
       "      <td>0</td>\n",
       "      <td>0</td>\n",
       "      <td>1</td>\n",
       "      <td>0</td>\n",
       "      <td>0</td>\n",
       "    </tr>\n",
       "  </tbody>\n",
       "</table>\n",
       "<p>5 rows × 40 columns</p>\n",
       "</div>"
      ],
      "text/plain": [
       "      id    budget                                homepage    imdb_id  \\\n",
       "31    32         0             http://www.cache-derfilm.at  tt0387898   \n",
       "116  117         0                                     NaN  tt2113822   \n",
       "363  364  15400000                                     NaN  tt2053425   \n",
       "392  393         0                                     NaN  tt5072406   \n",
       "449  450  80000000  http://asoundofthunder.warnerbros.com/  tt0318081   \n",
       "\n",
       "    original_language      original_title  \\\n",
       "31                 fr               Caché   \n",
       "116                zh                一九四二   \n",
       "363                fr  De rouille et d'os   \n",
       "392                fr                Moka   \n",
       "449                en  A Sound of Thunder   \n",
       "\n",
       "                                              overview  popularity  \\\n",
       "31   A married couple is terrorized by a series of ...    5.695860   \n",
       "116  In 1942, Henan Province was devastated by the ...    1.678013   \n",
       "363  Put in charge of his young son, Ali leaves Bel...    8.400049   \n",
       "392  Diane Kramer is led by one obsession: to find ...    2.404466   \n",
       "449  When a hunter sent back to the prehistoric era...    4.980191   \n",
       "\n",
       "                          poster_path  \\\n",
       "31   /i1Zl8S4DgM3IDLW5dhZzBnIdCOe.jpg   \n",
       "116   /xxz2gi8vijqqJySGO3kQy2i8mv.jpg   \n",
       "363  /cHCwW8xPl8yPKQwpNzKVinwvirT.jpg   \n",
       "392  /5VKVaTJJsyDeOzY6fLcyTo1RA9g.jpg   \n",
       "449  /gsqOX1ReJ5lcmTuDdkhOXLug8Ug.jpg   \n",
       "\n",
       "                                  production_companies  ... genre_Action  \\\n",
       "31   [{'name': 'Les Films du Losange', 'id': 223}, ...  ...            0   \n",
       "116  [{'name': 'Emperor Motion Pictures', 'id': 272...  ...            0   \n",
       "363  [{'name': 'France 2 Cinéma', 'id': 83}, {'name...  ...            0   \n",
       "392  [{'name': 'Canal+', 'id': 5358}, {'name': 'Cin...  ...            0   \n",
       "449  [{'name': 'Epsilon Motion Pictures', 'id': 117...  ...            1   \n",
       "\n",
       "    genre_Animation  genre_Adventure genre_Horror genre_Documentary  \\\n",
       "31                0                0            0                 0   \n",
       "116               0                0            0                 0   \n",
       "363               0                0            0                 0   \n",
       "392               0                0            0                 0   \n",
       "449               0                1            0                 0   \n",
       "\n",
       "    genre_Music genre_Crime genre_Science Fiction genre_Mystery genre_Foreign  \n",
       "31            0           0                     0             1             0  \n",
       "116           0           0                     0             0             0  \n",
       "363           0           0                     0             0             0  \n",
       "392           0           0                     0             0             0  \n",
       "449           0           0                     1             0             0  \n",
       "\n",
       "[5 rows x 40 columns]"
      ]
     },
     "execution_count": 30,
     "metadata": {},
     "output_type": "execute_result"
    }
   ],
   "source": [
    "# 회사가 11개 이상인 영화 출력\n",
    "df_train[df_train['production_companies'].apply(lambda x:len(x) if x != {} else 0)>10].head()"
   ]
  },
  {
   "cell_type": "code",
   "execution_count": 32,
   "metadata": {},
   "outputs": [
    {
     "data": {
      "text/plain": [
       "[['Paramount Pictures', 'United Artists', 'Metro-Goldwyn-Mayer (MGM)'],\n",
       " ['Walt Disney Pictures'],\n",
       " ['Bold Films', 'Blumhouse Productions', 'Right of Way Films'],\n",
       " [],\n",
       " [],\n",
       " [],\n",
       " ['Ghost House Pictures', 'North Box Productions'],\n",
       " [],\n",
       " ['Walt Disney Pictures', 'Jim Henson Productions', 'Jim Henson Company, The'],\n",
       " ['Castle Rock Entertainment']]"
      ]
     },
     "execution_count": 32,
     "metadata": {},
     "output_type": "execute_result"
    }
   ],
   "source": [
    "company_list = list(df_train['production_companies'].apply(lambda x:[i['name'] for i in x] if x != {} else []).values)\n",
    "company_list[0:10]"
   ]
  },
  {
   "cell_type": "code",
   "execution_count": 33,
   "metadata": {},
   "outputs": [
    {
     "data": {
      "text/plain": [
       "['Warner Bros.',\n",
       " 'Universal Pictures',\n",
       " 'Paramount Pictures',\n",
       " 'Twentieth Century Fox Film Corporation',\n",
       " 'Columbia Pictures',\n",
       " 'Metro-Goldwyn-Mayer (MGM)',\n",
       " 'New Line Cinema',\n",
       " 'Touchstone Pictures',\n",
       " 'Walt Disney Pictures',\n",
       " 'Columbia Pictures Corporation',\n",
       " 'TriStar Pictures',\n",
       " 'Relativity Media',\n",
       " 'Canal+',\n",
       " 'United Artists',\n",
       " 'Miramax Films',\n",
       " 'Village Roadshow Pictures',\n",
       " 'Regency Enterprises',\n",
       " 'BBC Films',\n",
       " 'Dune Entertainment',\n",
       " 'Working Title Films',\n",
       " 'Fox Searchlight Pictures',\n",
       " 'StudioCanal',\n",
       " 'Lionsgate',\n",
       " 'DreamWorks SKG',\n",
       " 'Fox 2000 Pictures',\n",
       " 'Summit Entertainment',\n",
       " 'Hollywood Pictures',\n",
       " 'Orion Pictures',\n",
       " 'Amblin Entertainment',\n",
       " 'Dimension Films']"
      ]
     },
     "execution_count": 33,
     "metadata": {},
     "output_type": "execute_result"
    }
   ],
   "source": [
    "company_count_dict = {}\n",
    "for i in company_list:\n",
    "    for j in i:\n",
    "        company_count_dict[j] = company_count_dict.get(j, 1) + 1\n",
    "company_count_sorted = sorted(company_count_dict.items() , key=lambda x:x[1], reverse=True)\n",
    "top_30_company = [i[0] for i  in company_count_sorted[0:30]]\n",
    "top_30_company"
   ]
  },
  {
   "cell_type": "code",
   "execution_count": 34,
   "metadata": {},
   "outputs": [],
   "source": [
    "df_train['num_companies'] = df_train['production_companies'].apply(lambda x: len(x) if x != {} else 0)\n",
    "df_train['all_production_companies'] = df_train['production_companies'].apply(lambda x: \" \".join(sorted([i['name'] for i in x])) if x != {} else '')\n",
    "for c in top_30_company:\n",
    "    df_train['production_company_' + c] = df_train['all_production_companies'].apply(lambda x:1 if c in x else 0)\n",
    "\n",
    "df_test['num_companies'] = df_test['production_companies'].apply(lambda x: len(x) if x != {} else 0)\n",
    "df_test['all_production_companies'] = df_test['production_companies'].apply(lambda x: \" \".join(sorted([i['name'] for i in x])) if x != {} else '')\n",
    "for c in top_30_company:\n",
    "    df_test['production_company_' + c] = df_test['all_production_companies'].apply(lambda x:1 if c in x else 0)\n",
    "\n",
    "df_train.drop(['production_companies', 'all_production_companies'], axis=1, inplace=True)\n",
    "df_test.drop(['production_companies', 'all_production_companies'], axis=1, inplace=True)"
   ]
  },
  {
   "cell_type": "markdown",
   "metadata": {},
   "source": [
    "### production_countries"
   ]
  },
  {
   "cell_type": "code",
   "execution_count": 35,
   "metadata": {},
   "outputs": [
    {
     "data": {
      "text/plain": [
       "0    [{'iso_3166_1': 'US', 'name': 'United States o...\n",
       "1    [{'iso_3166_1': 'US', 'name': 'United States o...\n",
       "2    [{'iso_3166_1': 'US', 'name': 'United States o...\n",
       "3              [{'iso_3166_1': 'IN', 'name': 'India'}]\n",
       "4        [{'iso_3166_1': 'KR', 'name': 'South Korea'}]\n",
       "5                                                   {}\n",
       "6    [{'iso_3166_1': 'US', 'name': 'United States o...\n",
       "7                                                   {}\n",
       "8    [{'iso_3166_1': 'US', 'name': 'United States o...\n",
       "9    [{'iso_3166_1': 'US', 'name': 'United States o...\n",
       "Name: production_countries, dtype: object"
      ]
     },
     "metadata": {},
     "output_type": "display_data"
    },
    {
     "data": {
      "text/plain": [
       "[{'iso_3166_1': 'US', 'name': 'United States of America'}]"
      ]
     },
     "execution_count": 35,
     "metadata": {},
     "output_type": "execute_result"
    }
   ],
   "source": [
    "display(df_train['production_countries'][0:10])\n",
    "df_train['production_countries'][0]"
   ]
  },
  {
   "cell_type": "code",
   "execution_count": 36,
   "metadata": {},
   "outputs": [
    {
     "data": {
      "text/plain": [
       "1    2222\n",
       "2     525\n",
       "3     116\n",
       "4      57\n",
       "0      55\n",
       "5      21\n",
       "6       3\n",
       "8       1\n",
       "Name: production_countries, dtype: int64"
      ]
     },
     "execution_count": 36,
     "metadata": {},
     "output_type": "execute_result"
    }
   ],
   "source": [
    "df_train['production_countries'].apply(lambda x:len(x) if x != {} else 0).value_counts()"
   ]
  },
  {
   "cell_type": "code",
   "execution_count": 37,
   "metadata": {},
   "outputs": [
    {
     "data": {
      "text/plain": [
       "[['United States of America'],\n",
       " ['United States of America'],\n",
       " ['United States of America'],\n",
       " ['India'],\n",
       " ['South Korea'],\n",
       " [],\n",
       " ['United States of America', 'Canada'],\n",
       " [],\n",
       " ['United States of America'],\n",
       " ['United States of America']]"
      ]
     },
     "execution_count": 37,
     "metadata": {},
     "output_type": "execute_result"
    }
   ],
   "source": [
    "countries_list = list(df_train['production_countries'].apply(lambda x:[i['name'] for i in x] if x != {} else []).values)\n",
    "countries_list[0:10]"
   ]
  },
  {
   "cell_type": "code",
   "execution_count": 38,
   "metadata": {},
   "outputs": [
    {
     "data": {
      "text/plain": [
       "['United States of America',\n",
       " 'United Kingdom',\n",
       " 'France',\n",
       " 'Germany',\n",
       " 'Canada',\n",
       " 'India',\n",
       " 'Italy',\n",
       " 'Japan',\n",
       " 'Australia',\n",
       " 'Russia',\n",
       " 'Spain',\n",
       " 'China',\n",
       " 'Hong Kong',\n",
       " 'Ireland',\n",
       " 'Belgium',\n",
       " 'South Korea',\n",
       " 'Mexico',\n",
       " 'Sweden',\n",
       " 'New Zealand',\n",
       " 'Netherlands',\n",
       " 'Czech Republic',\n",
       " 'Denmark',\n",
       " 'Brazil',\n",
       " 'Luxembourg',\n",
       " 'South Africa']"
      ]
     },
     "execution_count": 38,
     "metadata": {},
     "output_type": "execute_result"
    }
   ],
   "source": [
    "country_dict = {}\n",
    "for c_list in countries_list:\n",
    "    for c in c_list:\n",
    "        country_dict[c] = country_dict.get(c, 1) + 1\n",
    "sorted_dict = sorted(country_dict.items(), key=lambda x:x[1], reverse=True)\n",
    "top_25_countries = [i[0] for i in sorted_dict[:25]]\n",
    "top_25_countries"
   ]
  },
  {
   "cell_type": "code",
   "execution_count": 39,
   "metadata": {},
   "outputs": [],
   "source": [
    "df_train['num_countries'] = df_train['production_countries'].apply(lambda x:len(x) if x != {} else 0)\n",
    "df_train['all_countries'] = df_train['production_countries'].apply(lambda x: ' '.join(sorted([i['name'] for i in x])) if x != {} else '')\n",
    "for c in top_25_countries:\n",
    "    df_train['production_country_' + c] = df_train['all_countries'].apply(lambda x:1 if c in x else 0)\n",
    "\n",
    "df_test['num_countries'] = df_test['production_countries'].apply(lambda x:len(x) if x != {} else 0)\n",
    "df_test['all_countries'] = df_test['production_countries'].apply(lambda x: ' '.join(sorted([i['name'] for i in x])) if x != {} else '')\n",
    "for c in top_25_countries:\n",
    "    df_test['production_country_' + c] = df_test['all_countries'].apply(lambda x:1 if c in x else 0)\n",
    "    "
   ]
  },
  {
   "cell_type": "markdown",
   "metadata": {},
   "source": [
    "### spoken_languages"
   ]
  },
  {
   "cell_type": "code",
   "execution_count": 40,
   "metadata": {},
   "outputs": [
    {
     "data": {
      "text/plain": [
       "[{'iso_639_1': 'en', 'name': 'English'}]"
      ]
     },
     "execution_count": 40,
     "metadata": {},
     "output_type": "execute_result"
    }
   ],
   "source": [
    "df_train['spoken_languages'][0]"
   ]
  },
  {
   "cell_type": "code",
   "execution_count": 41,
   "metadata": {},
   "outputs": [
    {
     "data": {
      "text/plain": [
       "1    2105\n",
       "2     549\n",
       "3     216\n",
       "4      72\n",
       "5      23\n",
       "0      20\n",
       "7       6\n",
       "6       6\n",
       "8       2\n",
       "9       1\n",
       "Name: spoken_languages, dtype: int64"
      ]
     },
     "execution_count": 41,
     "metadata": {},
     "output_type": "execute_result"
    }
   ],
   "source": [
    "df_train['spoken_languages'].apply(lambda x:len(x) if x != {} else 0).value_counts()"
   ]
  },
  {
   "cell_type": "code",
   "execution_count": 42,
   "metadata": {},
   "outputs": [
    {
     "name": "stdout",
     "output_type": "stream",
     "text": [
      "['English', 'Français', 'Español', 'Deutsch', 'Pусский', 'Italiano', '日本語', '普通话', 'हिन्दी', '', 'Português', 'العربية', '한국어/조선말', '广州话 / 廣州話', 'தமிழ்', 'Polski', 'Magyar', 'Latin', 'svenska', 'ภาษาไทย', 'Český', 'עִבְרִית', 'ελληνικά', 'Türkçe', 'Dansk', 'Nederlands', 'فارسی', 'Tiếng Việt', 'اردو', 'Română']\n"
     ]
    }
   ],
   "source": [
    "languages_list = list(df_train['spoken_languages'].apply(lambda x:[i['name'] for i in x] if x != {} else []).values)\n",
    "lan_count_dict = {}\n",
    "for l_list in languages_list:\n",
    "    for l in l_list:\n",
    "        lan_count_dict[l] = lan_count_dict.get(l, 1) + 1\n",
    "lan_sorted = sorted(lan_count_dict.items(), key=lambda x:x[1], reverse=True)\n",
    "top_30_lan = [i[0] for i in lan_sorted[:30]]\n",
    "print(top_30_lan)"
   ]
  },
  {
   "cell_type": "code",
   "execution_count": 43,
   "metadata": {},
   "outputs": [],
   "source": [
    "df_train['num_languages'] = df_train['spoken_languages'].apply(lambda x:len(x) if x != {} else 0)\n",
    "df_train['all_languages'] = df_train['spoken_languages'].apply(lambda x: ' '.join(sorted([i['name'] for i in x])) if x != {} else '')\n",
    "for l in top_30_lan:\n",
    "    df_train['language_' + l] = df_train['all_languages'].apply(lambda x: 1 if l in x else 0)\n",
    "\n",
    "df_test['num_languages'] = df_test['spoken_languages'].apply(lambda x:len(x) if x != {} else 0)\n",
    "df_test['all_languages'] = df_test['spoken_languages'].apply(lambda x: ' '.join(sorted([i['name'] for i in x])) if x != {} else '')\n",
    "for l in top_30_lan:\n",
    "    df_test['language_' + l] = df_test['all_languages'].apply(lambda x: 1 if l in x else 0)\n",
    "    \n",
    "df_train.drop(['spoken_languages', 'all_languages'], axis=1, inplace=True)\n",
    "df_test.drop(['spoken_languages', 'all_languages'], axis=1, inplace=True)"
   ]
  },
  {
   "cell_type": "markdown",
   "metadata": {},
   "source": [
    "### Keywords"
   ]
  },
  {
   "cell_type": "code",
   "execution_count": 44,
   "metadata": {},
   "outputs": [],
   "source": [
    "def feature_engineering(df, colname, topk ):\n",
    "    \n",
    "    df[\"num_\" + colname] = df[colname].apply(lambda x:len(x) if x != {} else 0)\n",
    "    df['all_in'] = df[colname].apply(lambda x: ' '.join(sorted([i['name'] for i in x])) if x != {} else '')\n",
    "    colname_list = df[colname].apply(lambda x:[i['name'] for i in x] if x != {} else [])\n",
    "    #print(colname_list)\n",
    "    count_dict = {}\n",
    "    for clist in colname_list:\n",
    "        for c in clist:\n",
    "            count_dict[c] = count_dict.get(c, 1) + 1\n",
    "    sorted_col_count = sorted(count_dict.items(), key=lambda x:x[1], reverse=True)\n",
    "    freq = [i[0] for i in sorted_col_count[:topk]]\n",
    "    #print(freq)\n",
    "    for c in freq:\n",
    "        df[colname +'_' + c] = df['all_in'].apply(lambda x:1 if c in x else 0)\n",
    "    \n",
    "    df.drop([colname, 'all_in'], axis=1, inplace=True)\n",
    "    return df"
   ]
  },
  {
   "cell_type": "code",
   "execution_count": 45,
   "metadata": {},
   "outputs": [],
   "source": [
    "df_train = feature_engineering(df_train, 'Keywords', 30)\n",
    "df_test = feature_engineering(df_test, 'Keywords', 30)"
   ]
  },
  {
   "cell_type": "markdown",
   "metadata": {},
   "source": [
    "### cast"
   ]
  },
  {
   "cell_type": "code",
   "execution_count": 46,
   "metadata": {},
   "outputs": [
    {
     "data": {
      "text/plain": [
       "0    [{'cast_id': 4, 'character': 'Lou', 'credit_id...\n",
       "1    [{'cast_id': 1, 'character': 'Mia Thermopolis'...\n",
       "2    [{'cast_id': 5, 'character': 'Andrew Neimann',...\n",
       "3    [{'cast_id': 1, 'character': 'Vidya Bagchi', '...\n",
       "4    [{'cast_id': 3, 'character': 'Chun-soo', 'cred...\n",
       "Name: cast, dtype: object"
      ]
     },
     "metadata": {},
     "output_type": "display_data"
    },
    {
     "data": {
      "text/plain": [
       "[{'cast_id': 4,\n",
       "  'character': 'Lou',\n",
       "  'credit_id': '52fe4ee7c3a36847f82afae7',\n",
       "  'gender': 2,\n",
       "  'id': 52997,\n",
       "  'name': 'Rob Corddry',\n",
       "  'order': 0,\n",
       "  'profile_path': '/k2zJL0V1nEZuFT08xUdOd3ucfXz.jpg'},\n",
       " {'cast_id': 5,\n",
       "  'character': 'Nick',\n",
       "  'credit_id': '52fe4ee7c3a36847f82afaeb',\n",
       "  'gender': 2,\n",
       "  'id': 64342,\n",
       "  'name': 'Craig Robinson',\n",
       "  'order': 1,\n",
       "  'profile_path': '/tVaRMkJXOEVhYxtnnFuhqW0Rjzz.jpg'},\n",
       " {'cast_id': 6,\n",
       "  'character': 'Jacob',\n",
       "  'credit_id': '52fe4ee7c3a36847f82afaef',\n",
       "  'gender': 2,\n",
       "  'id': 54729,\n",
       "  'name': 'Clark Duke',\n",
       "  'order': 2,\n",
       "  'profile_path': '/oNzK0umwm5Wn0wyEbOy6TVJCSBn.jpg'},\n",
       " {'cast_id': 7,\n",
       "  'character': 'Adam Jr.',\n",
       "  'credit_id': '52fe4ee7c3a36847f82afaf3',\n",
       "  'gender': 2,\n",
       "  'id': 36801,\n",
       "  'name': 'Adam Scott',\n",
       "  'order': 3,\n",
       "  'profile_path': '/5gb65xz8bzd42yjMAl4zwo4cvKw.jpg'},\n",
       " {'cast_id': 8,\n",
       "  'character': 'Hot Tub Repairman',\n",
       "  'credit_id': '52fe4ee7c3a36847f82afaf7',\n",
       "  'gender': 2,\n",
       "  'id': 54812,\n",
       "  'name': 'Chevy Chase',\n",
       "  'order': 4,\n",
       "  'profile_path': '/svjpyYtPwtjvRxX9IZnOmOkhDOt.jpg'},\n",
       " {'cast_id': 9,\n",
       "  'character': 'Jill',\n",
       "  'credit_id': '52fe4ee7c3a36847f82afafb',\n",
       "  'gender': 1,\n",
       "  'id': 94098,\n",
       "  'name': 'Gillian Jacobs',\n",
       "  'order': 5,\n",
       "  'profile_path': '/rBnhe5vhNPnhRUdtYahBWx90fJM.jpg'},\n",
       " {'cast_id': 10,\n",
       "  'character': 'Sophie',\n",
       "  'credit_id': '52fe4ee7c3a36847f82afaff',\n",
       "  'gender': 1,\n",
       "  'id': 1159009,\n",
       "  'name': 'Bianca Haase',\n",
       "  'order': 6,\n",
       "  'profile_path': '/4x3nbtD8q8phAJPmoGWXPvz0iM.jpg'},\n",
       " {'cast_id': 11,\n",
       "  'character': 'Kelly',\n",
       "  'credit_id': '5524ec51c3a3687df3000dbb',\n",
       "  'gender': 1,\n",
       "  'id': 86624,\n",
       "  'name': 'Collette Wolfe',\n",
       "  'order': 7,\n",
       "  'profile_path': '/aSD4h5379b2eEw3bLou9ByLimmq.jpg'},\n",
       " {'cast_id': 13,\n",
       "  'character': 'Brad',\n",
       "  'credit_id': '5524ec8ec3a3687ded000d72',\n",
       "  'gender': 2,\n",
       "  'id': 466505,\n",
       "  'name': 'Kumail Nanjiani',\n",
       "  'order': 9,\n",
       "  'profile_path': '/x4nAztHY72SVciRfxEsbhIVTsIu.jpg'},\n",
       " {'cast_id': 14,\n",
       "  'character': 'Courtney',\n",
       "  'credit_id': '5524ec9bc3a3687df8000d13',\n",
       "  'gender': 1,\n",
       "  'id': 70776,\n",
       "  'name': 'Kellee Stewart',\n",
       "  'order': 10,\n",
       "  'profile_path': '/w3xmsEPmJc1Cf0dQ4aIn8YmlHbk.jpg'},\n",
       " {'cast_id': 15,\n",
       "  'character': 'Terry',\n",
       "  'credit_id': '5524eca892514171cb008237',\n",
       "  'gender': 2,\n",
       "  'id': 347335,\n",
       "  'name': 'Josh Heald',\n",
       "  'order': 11,\n",
       "  'profile_path': '/pwXJIenrDMrG7t3zNfLvr8w1RGU.jpg'},\n",
       " {'cast_id': 16,\n",
       "  'character': 'Susan',\n",
       "  'credit_id': '5524ecb7925141720c001116',\n",
       "  'gender': 0,\n",
       "  'id': 1451392,\n",
       "  'name': 'Gretchen Koerner',\n",
       "  'order': 12,\n",
       "  'profile_path': '/muULPexCTJGyJba4yKzxronpD50.jpg'},\n",
       " {'cast_id': 17,\n",
       "  'character': 'Herself',\n",
       "  'credit_id': '5524ecc3c3a3687ded000d74',\n",
       "  'gender': 1,\n",
       "  'id': 98879,\n",
       "  'name': 'Lisa Loeb',\n",
       "  'order': 13,\n",
       "  'profile_path': '/bGqg58ca0bZR38z9HliUMmeNGE.jpg'},\n",
       " {'cast_id': 18,\n",
       "  'character': 'Herself',\n",
       "  'credit_id': '5524ecd3c3a3687e11000ed3',\n",
       "  'gender': 1,\n",
       "  'id': 1394648,\n",
       "  'name': 'Jessica Williams',\n",
       "  'order': 14,\n",
       "  'profile_path': '/A4syKjkcYB92wLEhH0c0hC3BCpz.jpg'},\n",
       " {'cast_id': 19,\n",
       "  'character': 'Himself',\n",
       "  'credit_id': '5524ece6925141718d001009',\n",
       "  'gender': 0,\n",
       "  'id': 1451393,\n",
       "  'name': 'Bruce Buffer',\n",
       "  'order': 15,\n",
       "  'profile_path': None},\n",
       " {'cast_id': 20,\n",
       "  'character': 'Shot Girl',\n",
       "  'credit_id': '5524ecf5c3a3687e08000dc2',\n",
       "  'gender': 0,\n",
       "  'id': 1451394,\n",
       "  'name': 'Mariana Paola Vicente',\n",
       "  'order': 16,\n",
       "  'profile_path': '/ckPllza8624UHWGHCbLShkLxCD1.jpg'},\n",
       " {'cast_id': 33,\n",
       "  'character': 'Choozy Doozy Host',\n",
       "  'credit_id': '555844da9251412afe0013a9',\n",
       "  'gender': 2,\n",
       "  'id': 2224,\n",
       "  'name': 'Christian Slater',\n",
       "  'order': 17,\n",
       "  'profile_path': '/3ElLWjnvchMS6Q4cIQOK8QNAoMG.jpg'},\n",
       " {'cast_id': 35,\n",
       "  'character': 'Gary Winkle',\n",
       "  'credit_id': '55872027c3a3683853005074',\n",
       "  'gender': 0,\n",
       "  'id': 185805,\n",
       "  'name': 'Jason Jones',\n",
       "  'order': 18,\n",
       "  'profile_path': '/aIoCw6vo8AGMdsQRAI5g2t0yJT3.jpg'},\n",
       " {'cast_id': 36,\n",
       "  'character': 'Bridesmaid',\n",
       "  'credit_id': '55efe971c3a368090c00cd1b',\n",
       "  'gender': 0,\n",
       "  'id': 1507448,\n",
       "  'name': 'Olivia Jordan',\n",
       "  'order': 19,\n",
       "  'profile_path': '/szMukAEiIDeasel0lvyaeyKuych.jpg'},\n",
       " {'cast_id': 37,\n",
       "  'character': 'Christine',\n",
       "  'credit_id': '55efe980c3a36871bf008176',\n",
       "  'gender': 1,\n",
       "  'id': 1334091,\n",
       "  'name': 'Christine Bently',\n",
       "  'order': 20,\n",
       "  'profile_path': '/oUZltnGa55OXE52hfyPTfCshuNy.jpg'},\n",
       " {'cast_id': 38,\n",
       "  'character': 'Excited Girl',\n",
       "  'credit_id': '55efe98e9251413e3201d316',\n",
       "  'gender': 0,\n",
       "  'id': 557803,\n",
       "  'name': 'Stacey Asaro',\n",
       "  'order': 21,\n",
       "  'profile_path': '/qTPdlr1dXf3kNdyHuDsgtGC0HCC.jpg'},\n",
       " {'cast_id': 64,\n",
       "  'character': 'Adam (uncredited)',\n",
       "  'credit_id': '58f2135ac3a3682e95008b91',\n",
       "  'gender': 2,\n",
       "  'id': 3036,\n",
       "  'name': 'John Cusack',\n",
       "  'order': 22,\n",
       "  'profile_path': '/uKydQYuZ9TnCzvbQLtj6j98vWAT.jpg'},\n",
       " {'cast_id': 65,\n",
       "  'character': 'J-Bird',\n",
       "  'credit_id': '59ac0240c3a3682cc802c399',\n",
       "  'gender': 2,\n",
       "  'id': 59256,\n",
       "  'name': 'Adam Herschman',\n",
       "  'order': 23,\n",
       "  'profile_path': '/wZMwiuX1DslF6hDS50z9OTN6z1X.jpg'},\n",
       " {'cast_id': 66,\n",
       "  'character': 'Bridesmaid',\n",
       "  'credit_id': '59ac02cd925141079d02b1b4',\n",
       "  'gender': 1,\n",
       "  'id': 129714,\n",
       "  'name': 'Kisha Sierra',\n",
       "  'order': 24,\n",
       "  'profile_path': None}]"
      ]
     },
     "execution_count": 46,
     "metadata": {},
     "output_type": "execute_result"
    }
   ],
   "source": [
    "display(df_train['cast'][0:5])\n",
    "df_train['cast'][0]"
   ]
  },
  {
   "cell_type": "code",
   "execution_count": 47,
   "metadata": {},
   "outputs": [
    {
     "data": {
      "text/plain": [
       "15     212\n",
       "16     165\n",
       "10     135\n",
       "13     129\n",
       "12     124\n",
       "      ... \n",
       "90       1\n",
       "88       1\n",
       "84       1\n",
       "82       1\n",
       "134      1\n",
       "Name: cast, Length: 109, dtype: int64"
      ]
     },
     "execution_count": 47,
     "metadata": {},
     "output_type": "execute_result"
    }
   ],
   "source": [
    "df_train['cast'].apply(lambda x: len(x) if x != {} else 0).value_counts()"
   ]
  },
  {
   "cell_type": "code",
   "execution_count": 48,
   "metadata": {},
   "outputs": [
    {
     "data": {
      "text/plain": [
       "[('Samuel L. Jackson', 30),\n",
       " ('Robert De Niro', 30),\n",
       " ('Morgan Freeman', 27),\n",
       " ('J.K. Simmons', 25),\n",
       " ('Bruce Willis', 25),\n",
       " ('Liam Neeson', 25),\n",
       " ('Susan Sarandon', 25),\n",
       " ('Bruce McGill', 24),\n",
       " ('John Turturro', 24),\n",
       " ('Forest Whitaker', 23),\n",
       " ('Willem Dafoe', 23),\n",
       " ('Bill Murray', 22),\n",
       " ('Owen Wilson', 22),\n",
       " ('Nicolas Cage', 22),\n",
       " ('Sylvester Stallone', 21)]"
      ]
     },
     "execution_count": 48,
     "metadata": {},
     "output_type": "execute_result"
    }
   ],
   "source": [
    "cast_list = list(df_train['cast'].apply(lambda x : [i['name'] for i in x] if x != {} else []).values)\n",
    "Counter([i for j in cast_list for i in j]).most_common(15)"
   ]
  },
  {
   "cell_type": "code",
   "execution_count": 49,
   "metadata": {},
   "outputs": [
    {
     "data": {
      "text/plain": [
       "[(2, 27949), (0, 20329), (1, 13533)]"
      ]
     },
     "execution_count": 49,
     "metadata": {},
     "output_type": "execute_result"
    }
   ],
   "source": [
    "cast_gender_list = list(df_train['cast'].apply(lambda x: [i['gender'] for i in x] if x != {} else []).values)\n",
    "Counter([i for j in cast_gender_list for i in j]).most_common()"
   ]
  },
  {
   "cell_type": "code",
   "execution_count": 50,
   "metadata": {},
   "outputs": [
    {
     "data": {
      "text/plain": [
       "[('', 818),\n",
       " ('Himself', 610),\n",
       " ('Herself', 155),\n",
       " ('Dancer', 144),\n",
       " ('Additional Voices (voice)', 100),\n",
       " ('Doctor', 77),\n",
       " ('Reporter', 70),\n",
       " ('Waitress', 69),\n",
       " ('Nurse', 65),\n",
       " ('Bartender', 55),\n",
       " ('Jack', 54),\n",
       " ('Debutante', 54),\n",
       " ('Security Guard', 50),\n",
       " ('Paul', 48),\n",
       " ('Frank', 44)]"
      ]
     },
     "execution_count": 50,
     "metadata": {},
     "output_type": "execute_result"
    }
   ],
   "source": [
    "cast_character_list = list(df_train['cast'].apply(lambda x : [i['character'] for i in x] if x != {} else []).values)\n",
    "Counter([j for i in cast_character_list for j in i]).most_common(15)"
   ]
  },
  {
   "cell_type": "code",
   "execution_count": 51,
   "metadata": {},
   "outputs": [],
   "source": [
    "df_train['num_cast'] = df_train['cast'].apply(lambda x: len(x) if x != {} else 0)\n",
    "top_15_cast_name = [i[0] for i in Counter([i for j in cast_list for i in j]).most_common(15)]\n",
    "for c in top_15_cast_name:\n",
    "    df_train['cast_' + c] = df_train['cast'].apply(lambda x : 1 if c in str(x) else 0)\n",
    "\n",
    "df_train['cast_genders_0'] = df_train['cast'].apply(lambda x: sum([1 for i in x if i['gender'] == 0]))\n",
    "df_train['cast_genders_1'] = df_train['cast'].apply(lambda x: sum([1 for i in x if i['gender'] == 1]))\n",
    "df_train['cast_genders_2'] = df_train['cast'].apply(lambda x: sum([1 for i in x if i['gender'] == 2]))\n",
    "\n",
    "top_15_characters = [i[0] for i in Counter([j for i in cast_character_list for j in i]).most_common(15)] \n",
    "for c in top_15_characters:\n",
    "    df_train['cast_character_' + c] = df_train['cast'].apply(lambda x: 1 if c in str(x) else 0)\n",
    "\n",
    "\n",
    "df_test['num_cast'] = df_test['cast'].apply(lambda x: len(x) if x != {} else 0)\n",
    "top_15_cast_name = [i[0] for i in Counter([i for j in cast_list for i in j]).most_common(15)]\n",
    "for c in top_15_cast_name:\n",
    "    df_test['cast_' + c] = df_test['cast'].apply(lambda x : 1 if c in str(x) else 0)\n",
    "\n",
    "df_test['cast_genders_0'] = df_test['cast'].apply(lambda x: sum([1 for i in x if i['gender'] == 0]))\n",
    "df_test['cast_genders_1'] = df_test['cast'].apply(lambda x: sum([1 for i in x if i['gender'] == 1]))\n",
    "df_test['cast_genders_2'] = df_test['cast'].apply(lambda x: sum([1 for i in x if i['gender'] == 2]))\n",
    "\n",
    "top_15_characters = [i[0] for i in Counter([j for i in cast_character_list for j in i]).most_common(15)] \n",
    "for c in top_15_characters:\n",
    "    df_test['cast_character_' + c] = df_test['cast'].apply(lambda x: 1 if c in str(x) else 0)\n",
    "\n",
    "df_train.drop(['cast'], axis=1, inplace=True)\n",
    "df_test.drop(['cast'], axis=1, inplace=True)"
   ]
  },
  {
   "cell_type": "markdown",
   "metadata": {},
   "source": [
    "### crew"
   ]
  },
  {
   "cell_type": "code",
   "execution_count": 52,
   "metadata": {},
   "outputs": [
    {
     "data": {
      "text/plain": [
       "[{'credit_id': '59ac067c92514107af02c8c8',\n",
       "  'department': 'Directing',\n",
       "  'gender': 0,\n",
       "  'id': 1449071,\n",
       "  'job': 'First Assistant Director',\n",
       "  'name': 'Kelly Cantley',\n",
       "  'profile_path': None},\n",
       " {'credit_id': '52fe4ee7c3a36847f82afad7',\n",
       "  'department': 'Directing',\n",
       "  'gender': 2,\n",
       "  'id': 3227,\n",
       "  'job': 'Director',\n",
       "  'name': 'Steve Pink',\n",
       "  'profile_path': '/myHOgo8mQSCiCAZNGMRdHVr03jr.jpg'},\n",
       " {'credit_id': '5524ed25c3a3687ded000d88',\n",
       "  'department': 'Writing',\n",
       "  'gender': 2,\n",
       "  'id': 347335,\n",
       "  'job': 'Writer',\n",
       "  'name': 'Josh Heald',\n",
       "  'profile_path': '/pwXJIenrDMrG7t3zNfLvr8w1RGU.jpg'},\n",
       " {'credit_id': '5524ed2d925141720c001128',\n",
       "  'department': 'Writing',\n",
       "  'gender': 2,\n",
       "  'id': 347335,\n",
       "  'job': 'Characters',\n",
       "  'name': 'Josh Heald',\n",
       "  'profile_path': '/pwXJIenrDMrG7t3zNfLvr8w1RGU.jpg'},\n",
       " {'credit_id': '5524ed3d92514166c1004a5d',\n",
       "  'department': 'Production',\n",
       "  'gender': 2,\n",
       "  'id': 57822,\n",
       "  'job': 'Producer',\n",
       "  'name': 'Andrew Panay',\n",
       "  'profile_path': None},\n",
       " {'credit_id': '5524ed4bc3a3687df3000dd2',\n",
       "  'department': 'Production',\n",
       "  'gender': 0,\n",
       "  'id': 1451395,\n",
       "  'job': 'Associate Producer',\n",
       "  'name': 'Adam Blum',\n",
       "  'profile_path': None},\n",
       " {'credit_id': '5524ed5a925141720c00112c',\n",
       "  'department': 'Production',\n",
       "  'gender': 2,\n",
       "  'id': 52997,\n",
       "  'job': 'Executive Producer',\n",
       "  'name': 'Rob Corddry',\n",
       "  'profile_path': '/k2zJL0V1nEZuFT08xUdOd3ucfXz.jpg'},\n",
       " {'credit_id': '5524ed85c3a3687e0e000f56',\n",
       "  'department': 'Production',\n",
       "  'gender': 0,\n",
       "  'id': 62807,\n",
       "  'job': 'Executive Producer',\n",
       "  'name': 'Ben Ormand',\n",
       "  'profile_path': None},\n",
       " {'credit_id': '5524ed9fc3a3687e0e000f59',\n",
       "  'department': 'Sound',\n",
       "  'gender': 2,\n",
       "  'id': 23486,\n",
       "  'job': 'Original Music Composer',\n",
       "  'name': 'Christophe Beck',\n",
       "  'profile_path': '/2fnJUmCk6IEpVIptpYaUk31epHx.jpg'},\n",
       " {'credit_id': '5524eda6c3a3687e03000d28',\n",
       "  'department': 'Camera',\n",
       "  'gender': 2,\n",
       "  'id': 6117,\n",
       "  'job': 'Director of Photography',\n",
       "  'name': 'Declan Quinn',\n",
       "  'profile_path': None},\n",
       " {'credit_id': '5524edb4925141720c00113d',\n",
       "  'department': 'Editing',\n",
       "  'gender': 0,\n",
       "  'id': 1451396,\n",
       "  'job': 'Editor',\n",
       "  'name': 'Jamie Gross',\n",
       "  'profile_path': None},\n",
       " {'credit_id': '5524edc1925141727600102e',\n",
       "  'department': 'Production',\n",
       "  'gender': 0,\n",
       "  'id': 22219,\n",
       "  'job': 'Casting',\n",
       "  'name': 'Susie Farris',\n",
       "  'profile_path': None},\n",
       " {'credit_id': '5524edd192514171cb008257',\n",
       "  'department': 'Art',\n",
       "  'gender': 0,\n",
       "  'id': 1002643,\n",
       "  'job': 'Production Design',\n",
       "  'name': 'Ryan Berg',\n",
       "  'profile_path': None},\n",
       " {'credit_id': '555ad9be9251411e5b00d485',\n",
       "  'department': 'Production',\n",
       "  'gender': 2,\n",
       "  'id': 57431,\n",
       "  'job': 'Executive Producer',\n",
       "  'name': 'Matt Moore',\n",
       "  'profile_path': None},\n",
       " {'credit_id': '5677e93bc3a36816890087dc',\n",
       "  'department': 'Directing',\n",
       "  'gender': 0,\n",
       "  'id': 1551818,\n",
       "  'job': 'Script Supervisor',\n",
       "  'name': 'Nicole Garcea',\n",
       "  'profile_path': None},\n",
       " {'credit_id': '5677e96a92514179e10093d0',\n",
       "  'department': 'Production',\n",
       "  'gender': 0,\n",
       "  'id': 1551819,\n",
       "  'job': 'Production Coordinator',\n",
       "  'name': 'Jason Salzman',\n",
       "  'profile_path': None},\n",
       " {'credit_id': '5677e98492514179d2008cd9',\n",
       "  'department': 'Costume & Make-Up',\n",
       "  'gender': 0,\n",
       "  'id': 1422996,\n",
       "  'job': 'Costume Design',\n",
       "  'name': 'Carol Cutshall',\n",
       "  'profile_path': None},\n",
       " {'credit_id': '5677e9d5c3a368168e009414',\n",
       "  'department': 'Art',\n",
       "  'gender': 2,\n",
       "  'id': 500199,\n",
       "  'job': 'Set Decoration',\n",
       "  'name': 'Tim Cohn',\n",
       "  'profile_path': None},\n",
       " {'credit_id': '5677f89d9251417845001a61',\n",
       "  'department': 'Costume & Make-Up',\n",
       "  'gender': 0,\n",
       "  'id': 1527917,\n",
       "  'job': 'Hair Department Head',\n",
       "  'name': 'Voni Hinkle',\n",
       "  'profile_path': None},\n",
       " {'credit_id': '5677f8b392514179dd0089fb',\n",
       "  'department': 'Costume & Make-Up',\n",
       "  'gender': 0,\n",
       "  'id': 1431554,\n",
       "  'job': 'Makeup Department Head',\n",
       "  'name': 'Remi Savva',\n",
       "  'profile_path': None},\n",
       " {'credit_id': '5677f8d1c3a3681689008a4b',\n",
       "  'department': 'Art',\n",
       "  'gender': 0,\n",
       "  'id': 66495,\n",
       "  'job': 'Art Direction',\n",
       "  'name': 'Jason Baldwin Stewart',\n",
       "  'profile_path': None},\n",
       " {'credit_id': '5677f8eec3a3681685008dd5',\n",
       "  'department': 'Production',\n",
       "  'gender': 0,\n",
       "  'id': 1412466,\n",
       "  'job': 'Production Supervisor',\n",
       "  'name': 'Korey Budd',\n",
       "  'profile_path': None},\n",
       " {'credit_id': '5677f90a9251417845001a7d',\n",
       "  'department': 'Sound',\n",
       "  'gender': 0,\n",
       "  'id': 1401562,\n",
       "  'job': 'Sound Re-Recording Mixer',\n",
       "  'name': 'Gary C. Bourgeois',\n",
       "  'profile_path': None},\n",
       " {'credit_id': '5677f91e9251417845001a84',\n",
       "  'department': 'Sound',\n",
       "  'gender': 0,\n",
       "  'id': 1396794,\n",
       "  'job': 'Sound Re-Recording Mixer',\n",
       "  'name': 'Gabriel J. Serrano',\n",
       "  'profile_path': None},\n",
       " {'credit_id': '5677f938c3a3681680008dd4',\n",
       "  'department': 'Editing',\n",
       "  'gender': 0,\n",
       "  'id': 13168,\n",
       "  'job': 'Dialogue Editor',\n",
       "  'name': 'Victoria Rose Sampson',\n",
       "  'profile_path': None},\n",
       " {'credit_id': '5677f94e92514179dd008a1f',\n",
       "  'department': 'Sound',\n",
       "  'gender': 0,\n",
       "  'id': 1551839,\n",
       "  'job': 'Production Sound Mixer',\n",
       "  'name': 'Michael B. Koff',\n",
       "  'profile_path': None},\n",
       " {'credit_id': '5677f968c3a368168e009698',\n",
       "  'department': 'Sound',\n",
       "  'gender': 0,\n",
       "  'id': 113052,\n",
       "  'job': 'Sound Effects Editor',\n",
       "  'name': 'Randall Guth',\n",
       "  'profile_path': None},\n",
       " {'credit_id': '5677f98dc3a3681685008e02',\n",
       "  'department': 'Crew',\n",
       "  'gender': 2,\n",
       "  'id': 1442535,\n",
       "  'job': 'Stunt Coordinator',\n",
       "  'name': 'Chuck Picerni Jr.',\n",
       "  'profile_path': '/yE5QtXUzcrnCzMRctZL8F5g842B.jpg'},\n",
       " {'credit_id': '5677f9a692514179dd008a49',\n",
       "  'department': 'Camera',\n",
       "  'gender': 0,\n",
       "  'id': 1437305,\n",
       "  'job': 'Camera Operator',\n",
       "  'name': 'Michael Applebaum',\n",
       "  'profile_path': None},\n",
       " {'credit_id': '5677f9bd9251417845001aae',\n",
       "  'department': 'Camera',\n",
       "  'gender': 0,\n",
       "  'id': 1401765,\n",
       "  'job': 'Still Photographer',\n",
       "  'name': 'Steve Dietl',\n",
       "  'profile_path': None},\n",
       " {'credit_id': '5677f9e592514179e7008bf7',\n",
       "  'department': 'Lighting',\n",
       "  'gender': 0,\n",
       "  'id': 1402721,\n",
       "  'job': 'Rigging Gaffer',\n",
       "  'name': 'Tarik Naim Alherimi',\n",
       "  'profile_path': None},\n",
       " {'credit_id': '5677f9f4c3a368167c0090ed',\n",
       "  'department': 'Lighting',\n",
       "  'gender': 0,\n",
       "  'id': 1402719,\n",
       "  'job': 'Gaffer',\n",
       "  'name': 'Paul Olinde',\n",
       "  'profile_path': None},\n",
       " {'credit_id': '5677fa21c3a368168e0096ca',\n",
       "  'department': 'Sound',\n",
       "  'gender': 0,\n",
       "  'id': 1551840,\n",
       "  'job': 'Music Supervisor',\n",
       "  'name': 'Steve Griffen',\n",
       "  'profile_path': None},\n",
       " {'credit_id': '5677fa31c3a3681680008e04',\n",
       "  'department': 'Sound',\n",
       "  'gender': 0,\n",
       "  'id': 1551841,\n",
       "  'job': 'Music Editor',\n",
       "  'name': 'Matt Fausak',\n",
       "  'profile_path': None},\n",
       " {'credit_id': '5677fa4392514179dd008a76',\n",
       "  'department': 'Sound',\n",
       "  'gender': 0,\n",
       "  'id': 1551840,\n",
       "  'job': 'Music Editor',\n",
       "  'name': 'Steve Griffen',\n",
       "  'profile_path': None},\n",
       " {'credit_id': '5677fa609251417845001acf',\n",
       "  'department': 'Costume & Make-Up',\n",
       "  'gender': 0,\n",
       "  'id': 1403416,\n",
       "  'job': 'Costume Supervisor',\n",
       "  'name': 'Shonta T. McCray',\n",
       "  'profile_path': None},\n",
       " {'credit_id': '5677fa8492514179d2008fb3',\n",
       "  'department': 'Camera',\n",
       "  'gender': 0,\n",
       "  'id': 1425831,\n",
       "  'job': 'Steadicam Operator',\n",
       "  'name': 'Mark Karavite',\n",
       "  'profile_path': None},\n",
       " {'credit_id': '5677fab2c3a3681689008ac3',\n",
       "  'department': 'Camera',\n",
       "  'gender': 0,\n",
       "  'id': 1551842,\n",
       "  'job': 'First Assistant Camera',\n",
       "  'name': 'Joe Waistell',\n",
       "  'profile_path': None},\n",
       " {'credit_id': '5677faecc3a368168e0096fe',\n",
       "  'department': 'Sound',\n",
       "  'gender': 0,\n",
       "  'id': 58362,\n",
       "  'job': 'Supervising Sound Editor',\n",
       "  'name': 'Michael Hilkene',\n",
       "  'profile_path': None},\n",
       " {'credit_id': '59ac0368c3a3682c0a02c484',\n",
       "  'department': 'Crew',\n",
       "  'gender': 0,\n",
       "  'id': 1881584,\n",
       "  'job': 'Additional Writing',\n",
       "  'name': 'John Karnay',\n",
       "  'profile_path': None},\n",
       " {'credit_id': '59ac0411c3a3682bf0028966',\n",
       "  'department': 'Costume & Make-Up',\n",
       "  'gender': 0,\n",
       "  'id': 1431552,\n",
       "  'job': 'Hairstylist',\n",
       "  'name': 'Daina Daigle',\n",
       "  'profile_path': None},\n",
       " {'credit_id': '59ac0504925141072302b8fb',\n",
       "  'department': 'Costume & Make-Up',\n",
       "  'gender': 0,\n",
       "  'id': 1712001,\n",
       "  'job': 'Makeup Artist',\n",
       "  'name': 'Allison Gordin',\n",
       "  'profile_path': None},\n",
       " {'credit_id': '59ac0570c3a3682bf0028aac',\n",
       "  'department': 'Costume & Make-Up',\n",
       "  'gender': 0,\n",
       "  'id': 578725,\n",
       "  'job': 'Makeup Artist',\n",
       "  'name': 'Darryl Lucas',\n",
       "  'profile_path': None},\n",
       " {'credit_id': '59ac05a4925141077e02c97e',\n",
       "  'department': 'Costume & Make-Up',\n",
       "  'gender': 0,\n",
       "  'id': 1463274,\n",
       "  'job': 'Makeup Artist',\n",
       "  'name': 'Annabelle MacNeal',\n",
       "  'profile_path': None},\n",
       " {'credit_id': '59ac05c6925141076502d106',\n",
       "  'department': 'Costume & Make-Up',\n",
       "  'gender': 0,\n",
       "  'id': 1881586,\n",
       "  'job': 'Makeup Artist',\n",
       "  'name': 'Marina Savva',\n",
       "  'profile_path': None},\n",
       " {'credit_id': '59ac0615c3a3682c480296aa',\n",
       "  'department': 'Costume & Make-Up',\n",
       "  'gender': 0,\n",
       "  'id': 1406267,\n",
       "  'job': 'Hairstylist',\n",
       "  'name': 'Carl G. Variste',\n",
       "  'profile_path': None},\n",
       " {'credit_id': '59ac06ba925141076502d1fa',\n",
       "  'department': 'Directing',\n",
       "  'gender': 0,\n",
       "  'id': 1798593,\n",
       "  'job': 'First Assistant Director',\n",
       "  'name': 'Josh King',\n",
       "  'profile_path': None},\n",
       " {'credit_id': '59ac06f1c3a3682c2202aca0',\n",
       "  'department': 'Art',\n",
       "  'gender': 0,\n",
       "  'id': 1415083,\n",
       "  'job': 'Greensman',\n",
       "  'name': 'Scott C. Bivona',\n",
       "  'profile_path': None},\n",
       " {'credit_id': '59ac072c925141076502d260',\n",
       "  'department': 'Art',\n",
       "  'gender': 0,\n",
       "  'id': 1881587,\n",
       "  'job': 'Title Designer',\n",
       "  'name': 'Eunha Choi',\n",
       "  'profile_path': None},\n",
       " {'credit_id': '59ac077c925141077e02cb62',\n",
       "  'department': 'Art',\n",
       "  'gender': 0,\n",
       "  'id': 1585302,\n",
       "  'job': 'Construction Coordinator',\n",
       "  'name': 'Daniel Coe',\n",
       "  'profile_path': None},\n",
       " {'credit_id': '59ac07e0925141078a02d842',\n",
       "  'department': 'Art',\n",
       "  'gender': 0,\n",
       "  'id': 1495523,\n",
       "  'job': 'Set Designer',\n",
       "  'name': 'Spencer Davison',\n",
       "  'profile_path': None},\n",
       " {'credit_id': '59ac0862925141072f02cf6f',\n",
       "  'department': 'Art',\n",
       "  'gender': 0,\n",
       "  'id': 1881589,\n",
       "  'job': 'Painter',\n",
       "  'name': 'Sonia L. Garcia',\n",
       "  'profile_path': None},\n",
       " {'credit_id': '59ac08e0c3a3682bf0028e51',\n",
       "  'department': 'Art',\n",
       "  'gender': 0,\n",
       "  'id': 1424896,\n",
       "  'job': 'Art Department Coordinator',\n",
       "  'name': 'Caleb Guillotte',\n",
       "  'profile_path': None},\n",
       " {'credit_id': '59ac0920c3a3682c2202af36',\n",
       "  'department': 'Art',\n",
       "  'gender': 0,\n",
       "  'id': 1393375,\n",
       "  'job': 'Leadman',\n",
       "  'name': \"Pat A. O'Connor\",\n",
       "  'profile_path': None},\n",
       " {'credit_id': '59ac095592514107af02cc39',\n",
       "  'department': 'Art',\n",
       "  'gender': 0,\n",
       "  'id': 1881592,\n",
       "  'job': 'Set Designer',\n",
       "  'name': 'Brendan Turrill',\n",
       "  'profile_path': None},\n",
       " {'credit_id': '59ac0989925141072302bdfa',\n",
       "  'department': 'Art',\n",
       "  'gender': 2,\n",
       "  'id': 76497,\n",
       "  'job': 'Property Master',\n",
       "  'name': 'Brook Yeaton',\n",
       "  'profile_path': None},\n",
       " {'credit_id': '59ac0a2cc3a3682c9c02add1',\n",
       "  'department': 'Sound',\n",
       "  'gender': 0,\n",
       "  'id': 1881596,\n",
       "  'job': 'Boom Operator',\n",
       "  'name': 'Matthew Armstrong',\n",
       "  'profile_path': None},\n",
       " {'credit_id': '59ac0aa8925141072f02d282',\n",
       "  'department': 'Visual Effects',\n",
       "  'gender': 2,\n",
       "  'id': 1558086,\n",
       "  'job': 'Special Effects Supervisor',\n",
       "  'name': 'Matt Kutcher',\n",
       "  'profile_path': None},\n",
       " {'credit_id': '59ac0b2ac3a3682c2202b192',\n",
       "  'department': 'Crew',\n",
       "  'gender': 2,\n",
       "  'id': 1558087,\n",
       "  'job': 'Special Effects Coordinator',\n",
       "  'name': 'Eric Roberts',\n",
       "  'profile_path': None},\n",
       " {'credit_id': '59ac0b7ac3a3682c2202b1fb',\n",
       "  'department': 'Visual Effects',\n",
       "  'gender': 0,\n",
       "  'id': 1392098,\n",
       "  'job': 'Visual Effects Supervisor',\n",
       "  'name': 'Rocco Passionino',\n",
       "  'profile_path': None},\n",
       " {'credit_id': '59ac0bbe925141077e02d0c4',\n",
       "  'department': 'Visual Effects',\n",
       "  'gender': 0,\n",
       "  'id': 1558716,\n",
       "  'job': 'Visual Effects Coordinator',\n",
       "  'name': 'Joseph Payo',\n",
       "  'profile_path': None},\n",
       " {'credit_id': '59ac0bf2c3a3682cc802cefa',\n",
       "  'department': 'Visual Effects',\n",
       "  'gender': 0,\n",
       "  'id': 1408784,\n",
       "  'job': 'Visual Effects Producer',\n",
       "  'name': 'Chris Roff',\n",
       "  'profile_path': None},\n",
       " {'credit_id': '59ac0c51c3a3682c48029d99',\n",
       "  'department': 'Lighting',\n",
       "  'gender': 0,\n",
       "  'id': 1881600,\n",
       "  'job': 'Best Boy Electric',\n",
       "  'name': 'Ulyan Atamanyuk',\n",
       "  'profile_path': None},\n",
       " {'credit_id': '59ac0cbac3a3682c0a02cff6',\n",
       "  'department': 'Camera',\n",
       "  'gender': 0,\n",
       "  'id': 1881602,\n",
       "  'job': 'Key Grip',\n",
       "  'name': 'Chris Ekstrom',\n",
       "  'profile_path': None},\n",
       " {'credit_id': '59ac0d54925141072f02d5e6',\n",
       "  'department': 'Lighting',\n",
       "  'gender': 0,\n",
       "  'id': 1484984,\n",
       "  'job': 'Best Boy Electric',\n",
       "  'name': 'Brad Garris',\n",
       "  'profile_path': None},\n",
       " {'credit_id': '59ac0db0925141078a02df86',\n",
       "  'department': 'Camera',\n",
       "  'gender': 0,\n",
       "  'id': 1881603,\n",
       "  'job': 'Dolly Grip',\n",
       "  'name': 'Kendell Joseph',\n",
       "  'profile_path': None},\n",
       " {'credit_id': '59ac0e5a925141077e02d39f',\n",
       "  'department': 'Camera',\n",
       "  'gender': 0,\n",
       "  'id': 1549179,\n",
       "  'job': 'Dolly Grip',\n",
       "  'name': 'Spencer Wilcox',\n",
       "  'profile_path': None},\n",
       " {'credit_id': '59ac0e9f925141079d02bee6',\n",
       "  'department': 'Costume & Make-Up',\n",
       "  'gender': 0,\n",
       "  'id': 1552626,\n",
       "  'job': 'Key Costumer',\n",
       "  'name': 'Sarah P. Koeppe',\n",
       "  'profile_path': None},\n",
       " {'credit_id': '59ac0ec1c3a3682bf0029524',\n",
       "  'department': 'Costume & Make-Up',\n",
       "  'gender': 0,\n",
       "  'id': 1881605,\n",
       "  'job': 'Seamstress',\n",
       "  'name': 'Catherine Rodi',\n",
       "  'profile_path': None},\n",
       " {'credit_id': '59ac0eef925141070702c7ff',\n",
       "  'department': 'Costume & Make-Up',\n",
       "  'gender': 0,\n",
       "  'id': 1463801,\n",
       "  'job': 'Seamstress',\n",
       "  'name': 'Giselle Spence',\n",
       "  'profile_path': None},\n",
       " {'credit_id': '59ac0f5dc3a3682c4802a0f5',\n",
       "  'department': 'Production',\n",
       "  'gender': 0,\n",
       "  'id': 1400837,\n",
       "  'job': 'Location Manager',\n",
       "  'name': 'John A. Johnston',\n",
       "  'profile_path': None},\n",
       " {'credit_id': '59ac0ff2c3a3682c4802a196',\n",
       "  'department': 'Crew',\n",
       "  'gender': 0,\n",
       "  'id': 1844322,\n",
       "  'job': 'Production Controller',\n",
       "  'name': 'Gail Marks',\n",
       "  'profile_path': None}]"
      ]
     },
     "execution_count": 52,
     "metadata": {},
     "output_type": "execute_result"
    }
   ],
   "source": [
    "df_train['crew'][0]"
   ]
  },
  {
   "cell_type": "code",
   "execution_count": 53,
   "metadata": {},
   "outputs": [
    {
     "data": {
      "text/plain": [
       "2     179\n",
       "11    127\n",
       "10    126\n",
       "3     126\n",
       "12    110\n",
       "9     109\n",
       "8     109\n",
       "14    104\n",
       "4     101\n",
       "7      94\n",
       "Name: crew, dtype: int64"
      ]
     },
     "execution_count": 53,
     "metadata": {},
     "output_type": "execute_result"
    }
   ],
   "source": [
    "df_train['crew'].apply(lambda x: len(x) if x != {} else 0).value_counts()[:10]"
   ]
  },
  {
   "cell_type": "code",
   "execution_count": 54,
   "metadata": {},
   "outputs": [
    {
     "data": {
      "text/plain": [
       "[('Avy Kaufman', 50),\n",
       " ('Robert Rodriguez', 44),\n",
       " ('Deborah Aquila', 40),\n",
       " ('James Newton Howard', 39),\n",
       " ('Mary Vernieu', 38),\n",
       " ('Steven Spielberg', 37),\n",
       " ('Luc Besson', 37),\n",
       " ('Jerry Goldsmith', 37),\n",
       " ('Francine Maisler', 35),\n",
       " ('Tricia Wood', 35),\n",
       " ('James Horner', 33),\n",
       " ('Kerry Barden', 32),\n",
       " ('Bob Weinstein', 30),\n",
       " ('Harvey Weinstein', 30),\n",
       " ('Janet Hirshenson', 30)]"
      ]
     },
     "execution_count": 54,
     "metadata": {},
     "output_type": "execute_result"
    }
   ],
   "source": [
    "crew_name_list = list(df_train['crew'].apply(lambda x: [i['name'] for i in x] if x != {} else []).values)\n",
    "Counter([j for i in crew_name_list for j in i]).most_common(15)"
   ]
  },
  {
   "cell_type": "code",
   "execution_count": 55,
   "metadata": {},
   "outputs": [
    {
     "data": {
      "text/plain": [
       "[('Producer', 6011),\n",
       " ('Executive Producer', 3459),\n",
       " ('Director', 3225),\n",
       " ('Screenplay', 2996),\n",
       " ('Editor', 2824),\n",
       " ('Casting', 2483),\n",
       " ('Director of Photography', 2288),\n",
       " ('Original Music Composer', 1947),\n",
       " ('Art Direction', 1821),\n",
       " ('Production Design', 1650),\n",
       " ('Costume Design', 1573),\n",
       " ('Writer', 1523),\n",
       " ('Set Decoration', 1345),\n",
       " ('Makeup Artist', 1108),\n",
       " ('Sound Re-Recording Mixer', 970)]"
      ]
     },
     "execution_count": 55,
     "metadata": {},
     "output_type": "execute_result"
    }
   ],
   "source": [
    "crew_job_list = list(df_train['crew'].apply(lambda x: [i['job'] for i in x] if x != {} else []).values)\n",
    "Counter([j for i in crew_job_list for j in i]).most_common(15)"
   ]
  },
  {
   "cell_type": "code",
   "execution_count": 58,
   "metadata": {},
   "outputs": [
    {
     "data": {
      "text/plain": [
       "[(0, 41787), (2, 24898), (1, 6412)]"
      ]
     },
     "execution_count": 58,
     "metadata": {},
     "output_type": "execute_result"
    }
   ],
   "source": [
    "crew_genders_list = list(df_train['crew'].apply(lambda x: [i['gender'] for i in x] if x != {} else []).values)\n",
    "Counter([j for i in crew_genders_list for j in i]).most_common()"
   ]
  },
  {
   "cell_type": "code",
   "execution_count": 59,
   "metadata": {},
   "outputs": [
    {
     "data": {
      "text/plain": [
       "[('Production', 15887),\n",
       " ('Sound', 9319),\n",
       " ('Art', 8069),\n",
       " ('Crew', 7315),\n",
       " ('Writing', 6567),\n",
       " ('Costume & Make-Up', 6156),\n",
       " ('Camera', 5424),\n",
       " ('Directing', 4954),\n",
       " ('Editing', 4508),\n",
       " ('Visual Effects', 3591),\n",
       " ('Lighting', 1303),\n",
       " ('Actors', 4)]"
      ]
     },
     "execution_count": 59,
     "metadata": {},
     "output_type": "execute_result"
    }
   ],
   "source": [
    "crew_department_list = list(df_train['crew'].apply(lambda x: [i['department'] for i in x] if x != {} else []).values)\n",
    "Counter([j for i in crew_department_list for j in i]).most_common()"
   ]
  },
  {
   "cell_type": "code",
   "execution_count": 60,
   "metadata": {},
   "outputs": [],
   "source": [
    "df_train['num_crew'] = df_train['crew'].apply(lambda x: len(x) if x != {} else 0)\n",
    "top_15_crew_names = [i[0] for i in Counter([j for i in crew_name_list for j in i]).most_common(15)]\n",
    "for c in top_15_crew_names:\n",
    "    df_train['crew_name_' + c] = df_train['crew'].apply(lambda x: 1 if c in str(x) else 0)\n",
    "\n",
    "df_train['genders_0_crew'] = df_train['crew'].apply(lambda x: sum([1 for i in x if i['gender'] == 0]))\n",
    "df_train['genders_1_crew'] = df_train['crew'].apply(lambda x: sum([1 for i in x if i['gender'] == 1]))\n",
    "df_train['genders_2_crew'] = df_train['crew'].apply(lambda x: sum([1 for i in x if i['gender'] == 2]))\n",
    "\n",
    "top_15_crew_job = [i[0] for i in Counter([j for i in crew_job_list for j in i]).most_common(15)]\n",
    "for c in top_15_crew_job:\n",
    "    df_train['crew_jobs_' + c] = df_train['crew'].apply(lambda x: sum([1 for i in x if i['job'] == j]))\n",
    "\n",
    "crew_dept = [i[0] for i in Counter([j for i in crew_department_list for j in i]).most_common()]\n",
    "for c in crew_dept:\n",
    "    df_train['crew_dept_' + c] = df_train['crew'].apply(lambda x: sum([1 for i in x if i['department'] == c]))\n",
    "    \n",
    "\n",
    "df_test['num_crew'] = df_test['crew'].apply(lambda x: len(x) if x != {} else 0)\n",
    "top_15_crew_names = [i[0] for i in Counter([j for i in crew_name_list for j in i]).most_common(15)]\n",
    "for c in top_15_crew_names:\n",
    "    df_test['crew_name_' + c] = df_test['crew'].apply(lambda x: 1 if c in str(x) else 0)\n",
    "\n",
    "df_test['genders_0_crew'] = df_test['crew'].apply(lambda x: sum([1 for i in x if i['gender'] == 0]))\n",
    "df_test['genders_1_crew'] = df_test['crew'].apply(lambda x: sum([1 for i in x if i['gender'] == 1]))\n",
    "df_test['genders_2_crew'] = df_test['crew'].apply(lambda x: sum([1 for i in x if i['gender'] == 2]))\n",
    "\n",
    "top_15_crew_job = [i[0] for i in Counter([j for i in crew_job_list for j in i]).most_common(15)]\n",
    "for c in top_15_crew_job:\n",
    "    df_test['crew_jobs_' + c] = df_test['crew'].apply(lambda x: sum([1 for i in x if i['job'] == j]))\n",
    "\n",
    "crew_dept = [i[0] for i in Counter([j for i in crew_department_list for j in i]).most_common()]\n",
    "for c in crew_dept:\n",
    "    df_test['crew_dept_' + c] = df_test['crew'].apply(lambda x: sum([1 for i in x if i['department'] == c]))\n",
    "\n",
    "df_train.drop(['crew'], axis=1, inplace=True)\n",
    "df_test.drop(['crew'], axis=1, inplace=True)"
   ]
  },
  {
   "cell_type": "code",
   "execution_count": 61,
   "metadata": {},
   "outputs": [],
   "source": [
    "df_train.to_csv('df_train_preprocessed.csv', index=False)\n",
    "df_test.to_csv('df_test_preprocessed.csv', index=False)"
   ]
  },
  {
   "cell_type": "code",
   "execution_count": 62,
   "metadata": {},
   "outputs": [
    {
     "data": {
      "text/html": [
       "<div>\n",
       "<style scoped>\n",
       "    .dataframe tbody tr th:only-of-type {\n",
       "        vertical-align: middle;\n",
       "    }\n",
       "\n",
       "    .dataframe tbody tr th {\n",
       "        vertical-align: top;\n",
       "    }\n",
       "\n",
       "    .dataframe thead th {\n",
       "        text-align: right;\n",
       "    }\n",
       "</style>\n",
       "<table border=\"1\" class=\"dataframe\">\n",
       "  <thead>\n",
       "    <tr style=\"text-align: right;\">\n",
       "      <th></th>\n",
       "      <th>id</th>\n",
       "      <th>budget</th>\n",
       "      <th>homepage</th>\n",
       "      <th>imdb_id</th>\n",
       "      <th>original_language</th>\n",
       "      <th>original_title</th>\n",
       "      <th>overview</th>\n",
       "      <th>popularity</th>\n",
       "      <th>poster_path</th>\n",
       "      <th>production_countries</th>\n",
       "      <th>...</th>\n",
       "      <th>crew_dept_Art</th>\n",
       "      <th>crew_dept_Crew</th>\n",
       "      <th>crew_dept_Writing</th>\n",
       "      <th>crew_dept_Costume &amp; Make-Up</th>\n",
       "      <th>crew_dept_Camera</th>\n",
       "      <th>crew_dept_Directing</th>\n",
       "      <th>crew_dept_Editing</th>\n",
       "      <th>crew_dept_Visual Effects</th>\n",
       "      <th>crew_dept_Lighting</th>\n",
       "      <th>crew_dept_Actors</th>\n",
       "    </tr>\n",
       "  </thead>\n",
       "  <tbody>\n",
       "    <tr>\n",
       "      <th>0</th>\n",
       "      <td>1</td>\n",
       "      <td>14000000</td>\n",
       "      <td>NaN</td>\n",
       "      <td>tt2637294</td>\n",
       "      <td>en</td>\n",
       "      <td>Hot Tub Time Machine 2</td>\n",
       "      <td>When Lou, who has become the \"father of the In...</td>\n",
       "      <td>6.575393</td>\n",
       "      <td>/tQtWuwvMf0hCc2QR2tkolwl7c3c.jpg</td>\n",
       "      <td>[{'iso_3166_1': 'US', 'name': 'United States o...</td>\n",
       "      <td>...</td>\n",
       "      <td>12</td>\n",
       "      <td>4</td>\n",
       "      <td>2</td>\n",
       "      <td>13</td>\n",
       "      <td>8</td>\n",
       "      <td>4</td>\n",
       "      <td>2</td>\n",
       "      <td>4</td>\n",
       "      <td>4</td>\n",
       "      <td>0</td>\n",
       "    </tr>\n",
       "    <tr>\n",
       "      <th>1</th>\n",
       "      <td>2</td>\n",
       "      <td>40000000</td>\n",
       "      <td>NaN</td>\n",
       "      <td>tt0368933</td>\n",
       "      <td>en</td>\n",
       "      <td>The Princess Diaries 2: Royal Engagement</td>\n",
       "      <td>Mia Thermopolis is now a college graduate and ...</td>\n",
       "      <td>8.248895</td>\n",
       "      <td>/w9Z7A0GHEhIp7etpj0vyKOeU1Wx.jpg</td>\n",
       "      <td>[{'iso_3166_1': 'US', 'name': 'United States o...</td>\n",
       "      <td>...</td>\n",
       "      <td>0</td>\n",
       "      <td>0</td>\n",
       "      <td>1</td>\n",
       "      <td>0</td>\n",
       "      <td>1</td>\n",
       "      <td>1</td>\n",
       "      <td>1</td>\n",
       "      <td>0</td>\n",
       "      <td>0</td>\n",
       "      <td>0</td>\n",
       "    </tr>\n",
       "    <tr>\n",
       "      <th>2</th>\n",
       "      <td>3</td>\n",
       "      <td>3300000</td>\n",
       "      <td>http://sonyclassics.com/whiplash/</td>\n",
       "      <td>tt2582802</td>\n",
       "      <td>en</td>\n",
       "      <td>Whiplash</td>\n",
       "      <td>Under the direction of a ruthless instructor, ...</td>\n",
       "      <td>64.299990</td>\n",
       "      <td>/lIv1QinFqz4dlp5U4lQ6HaiskOZ.jpg</td>\n",
       "      <td>[{'iso_3166_1': 'US', 'name': 'United States o...</td>\n",
       "      <td>...</td>\n",
       "      <td>5</td>\n",
       "      <td>9</td>\n",
       "      <td>1</td>\n",
       "      <td>5</td>\n",
       "      <td>4</td>\n",
       "      <td>3</td>\n",
       "      <td>6</td>\n",
       "      <td>3</td>\n",
       "      <td>1</td>\n",
       "      <td>0</td>\n",
       "    </tr>\n",
       "    <tr>\n",
       "      <th>3</th>\n",
       "      <td>4</td>\n",
       "      <td>1200000</td>\n",
       "      <td>http://kahaanithefilm.com/</td>\n",
       "      <td>tt1821480</td>\n",
       "      <td>hi</td>\n",
       "      <td>Kahaani</td>\n",
       "      <td>Vidya Bagchi (Vidya Balan) arrives in Kolkata ...</td>\n",
       "      <td>3.174936</td>\n",
       "      <td>/aTXRaPrWSinhcmCrcfJK17urp3F.jpg</td>\n",
       "      <td>[{'iso_3166_1': 'IN', 'name': 'India'}]</td>\n",
       "      <td>...</td>\n",
       "      <td>0</td>\n",
       "      <td>0</td>\n",
       "      <td>1</td>\n",
       "      <td>0</td>\n",
       "      <td>0</td>\n",
       "      <td>1</td>\n",
       "      <td>0</td>\n",
       "      <td>0</td>\n",
       "      <td>0</td>\n",
       "      <td>0</td>\n",
       "    </tr>\n",
       "    <tr>\n",
       "      <th>4</th>\n",
       "      <td>5</td>\n",
       "      <td>0</td>\n",
       "      <td>NaN</td>\n",
       "      <td>tt1380152</td>\n",
       "      <td>ko</td>\n",
       "      <td>마린보이</td>\n",
       "      <td>Marine Boy is the story of a former national s...</td>\n",
       "      <td>1.148070</td>\n",
       "      <td>/m22s7zvkVFDU9ir56PiiqIEWFdT.jpg</td>\n",
       "      <td>[{'iso_3166_1': 'KR', 'name': 'South Korea'}]</td>\n",
       "      <td>...</td>\n",
       "      <td>0</td>\n",
       "      <td>0</td>\n",
       "      <td>1</td>\n",
       "      <td>0</td>\n",
       "      <td>0</td>\n",
       "      <td>1</td>\n",
       "      <td>0</td>\n",
       "      <td>0</td>\n",
       "      <td>0</td>\n",
       "      <td>0</td>\n",
       "    </tr>\n",
       "  </tbody>\n",
       "</table>\n",
       "<p>5 rows × 235 columns</p>\n",
       "</div>"
      ],
      "text/plain": [
       "   id    budget                           homepage    imdb_id  \\\n",
       "0   1  14000000                                NaN  tt2637294   \n",
       "1   2  40000000                                NaN  tt0368933   \n",
       "2   3   3300000  http://sonyclassics.com/whiplash/  tt2582802   \n",
       "3   4   1200000         http://kahaanithefilm.com/  tt1821480   \n",
       "4   5         0                                NaN  tt1380152   \n",
       "\n",
       "  original_language                            original_title  \\\n",
       "0                en                    Hot Tub Time Machine 2   \n",
       "1                en  The Princess Diaries 2: Royal Engagement   \n",
       "2                en                                  Whiplash   \n",
       "3                hi                                   Kahaani   \n",
       "4                ko                                      마린보이   \n",
       "\n",
       "                                            overview  popularity  \\\n",
       "0  When Lou, who has become the \"father of the In...    6.575393   \n",
       "1  Mia Thermopolis is now a college graduate and ...    8.248895   \n",
       "2  Under the direction of a ruthless instructor, ...   64.299990   \n",
       "3  Vidya Bagchi (Vidya Balan) arrives in Kolkata ...    3.174936   \n",
       "4  Marine Boy is the story of a former national s...    1.148070   \n",
       "\n",
       "                        poster_path  \\\n",
       "0  /tQtWuwvMf0hCc2QR2tkolwl7c3c.jpg   \n",
       "1  /w9Z7A0GHEhIp7etpj0vyKOeU1Wx.jpg   \n",
       "2  /lIv1QinFqz4dlp5U4lQ6HaiskOZ.jpg   \n",
       "3  /aTXRaPrWSinhcmCrcfJK17urp3F.jpg   \n",
       "4  /m22s7zvkVFDU9ir56PiiqIEWFdT.jpg   \n",
       "\n",
       "                                production_countries  ... crew_dept_Art  \\\n",
       "0  [{'iso_3166_1': 'US', 'name': 'United States o...  ...            12   \n",
       "1  [{'iso_3166_1': 'US', 'name': 'United States o...  ...             0   \n",
       "2  [{'iso_3166_1': 'US', 'name': 'United States o...  ...             5   \n",
       "3            [{'iso_3166_1': 'IN', 'name': 'India'}]  ...             0   \n",
       "4      [{'iso_3166_1': 'KR', 'name': 'South Korea'}]  ...             0   \n",
       "\n",
       "   crew_dept_Crew crew_dept_Writing crew_dept_Costume & Make-Up  \\\n",
       "0               4                 2                          13   \n",
       "1               0                 1                           0   \n",
       "2               9                 1                           5   \n",
       "3               0                 1                           0   \n",
       "4               0                 1                           0   \n",
       "\n",
       "  crew_dept_Camera  crew_dept_Directing crew_dept_Editing  \\\n",
       "0                8                    4                 2   \n",
       "1                1                    1                 1   \n",
       "2                4                    3                 6   \n",
       "3                0                    1                 0   \n",
       "4                0                    1                 0   \n",
       "\n",
       "   crew_dept_Visual Effects  crew_dept_Lighting crew_dept_Actors  \n",
       "0                         4                   4                0  \n",
       "1                         0                   0                0  \n",
       "2                         3                   1                0  \n",
       "3                         0                   0                0  \n",
       "4                         0                   0                0  \n",
       "\n",
       "[5 rows x 235 columns]"
      ]
     },
     "execution_count": 62,
     "metadata": {},
     "output_type": "execute_result"
    }
   ],
   "source": [
    "tmp = pd.read_csv('df_train_preprocessed.csv')\n",
    "tmp.head()"
   ]
  },
  {
   "cell_type": "code",
   "execution_count": null,
   "metadata": {},
   "outputs": [],
   "source": []
  }
 ],
 "metadata": {
  "kernelspec": {
   "display_name": "Python 3",
   "language": "python",
   "name": "python3"
  },
  "language_info": {
   "codemirror_mode": {
    "name": "ipython",
    "version": 3
   },
   "file_extension": ".py",
   "mimetype": "text/x-python",
   "name": "python",
   "nbconvert_exporter": "python",
   "pygments_lexer": "ipython3",
   "version": "3.7.3"
  }
 },
 "nbformat": 4,
 "nbformat_minor": 2
}
